{
  "cells": [
    {
      "cell_type": "markdown",
      "metadata": {
        "id": "view-in-github",
        "colab_type": "text"
      },
      "source": [
        "<a href=\"https://colab.research.google.com/github/kalakhushi18/Coding/blob/main/Exceptions.ipynb\" target=\"_parent\"><img src=\"https://colab.research.google.com/assets/colab-badge.svg\" alt=\"Open In Colab\"/></a>"
      ]
    },
    {
      "cell_type": "markdown",
      "metadata": {
        "id": "PtbqSdEPBc3x"
      },
      "source": [
        "### ⭐ Calculator Error Handling\n",
        "Find below a function doing division. Add Exception Handling for `ValueError` and `ZeroDivisionError`."
      ]
    },
    {
      "cell_type": "code",
      "execution_count": null,
      "metadata": {
        "id": "AT8IAun5BweL",
        "outputId": "d0a45e16-e8ff-4b8f-b6ed-6da1f713dcd8",
        "colab": {
          "base_uri": "https://localhost:8080/"
        }
      },
      "outputs": [
        {
          "output_type": "stream",
          "name": "stdout",
          "text": [
            "First Integer: hg\n",
            "For this value the division can not be performed\n"
          ]
        }
      ],
      "source": [
        "def division():\n",
        "  result = None\n",
        "  try:\n",
        "    x = int(input(\"First Integer: \"))\n",
        "    y = int(input(\"Second Integer: \"))\n",
        "    result = x/y\n",
        "  except ValueError:\n",
        "    print(\"For this value the division can not be performed\")\n",
        "  except ZeroDivisionError:\n",
        "    print(\"Division by zero can not be performed\")\n",
        "  return result\n",
        "\n",
        "division()"
      ]
    },
    {
      "cell_type": "markdown",
      "metadata": {
        "id": "tbAYP3jLC8FT"
      },
      "source": [
        "### ⭐ List Element Access\n",
        "Find below the code doing list access via indices. Add Exception Handling to catch `IndexError` and `ValueError`."
      ]
    },
    {
      "cell_type": "code",
      "execution_count": null,
      "metadata": {
        "id": "iv7ZaAD_DwqF",
        "outputId": "5569a996-ae68-40ad-8906-a1f3be3d0b35",
        "colab": {
          "base_uri": "https://localhost:8080/"
        }
      },
      "outputs": [
        {
          "output_type": "stream",
          "name": "stdout",
          "text": [
            "Which Index do you want to access? hg\n",
            "Index value is incorrect\n"
          ]
        }
      ],
      "source": [
        "numbers = [1, 2, 3, 4, 5]\n",
        "\n",
        "try:\n",
        "  index = int(input(\"Which Index do you want to access? \"))\n",
        "  print(\"Value at Index: \", numbers[index])\n",
        "except IndexError:\n",
        "  print(\"Index is out of bound or wrong\")\n",
        "except ValueError:\n",
        "  print(\"Index value is incorrect\")\n"
      ]
    },
    {
      "cell_type": "markdown",
      "metadata": {
        "id": "I2XL8pXgEBgH"
      },
      "source": [
        "### ⭐⭐ Access to Dictionary Elements\n",
        "Find below the code doing dictionary access. Add Eception Handling for `KeyError`.\n"
      ]
    },
    {
      "cell_type": "code",
      "execution_count": null,
      "metadata": {
        "id": "Z7WE0QiXEWXJ",
        "outputId": "f373b89f-3a62-4ee7-a869-3b77c382dd39",
        "colab": {
          "base_uri": "https://localhost:8080/"
        }
      },
      "outputs": [
        {
          "output_type": "stream",
          "name": "stdout",
          "text": [
            "Which key do you want to access? gender\n",
            "this key does not exists\n"
          ]
        }
      ],
      "source": [
        "data = {'name': 'Alice', 'age': 30}\n",
        "try:\n",
        " key = input(\"Which key do you want to access? \")\n",
        " print(\"value: \", data[key])\n",
        "except KeyError:\n",
        "  print(\"this key does not exists\")\n"
      ]
    },
    {
      "cell_type": "markdown",
      "metadata": {
        "id": "9a_4MuEWE6fV"
      },
      "source": [
        "### ⭐⭐ TypeError Explanation\n",
        "Explain the Error message and give an example how this Error could occur.\n",
        "`TypeError: unsupported operand type(s) for +: 'int' and 'str'`"
      ]
    },
    {
      "cell_type": "markdown",
      "metadata": {
        "id": "Q69N-wsGFaVS"
      },
      "source": [
        "Your solution:"
      ]
    },
    {
      "cell_type": "code",
      "execution_count": null,
      "metadata": {
        "id": "55McgpmTb1BD",
        "outputId": "3759221d-df5e-454e-e163-a50742ea31f8",
        "colab": {
          "base_uri": "https://localhost:8080/"
        }
      },
      "outputs": [
        {
          "output_type": "stream",
          "name": "stdout",
          "text": [
            "Enter first number23\n",
            "Enter second number34\n",
            "Both inputs must be a number\n"
          ]
        }
      ],
      "source": [
        "#Example code\n",
        "result = None\n",
        "try:\n",
        "  a = int(input(\"Enter first number\"))\n",
        "  b = (input(\"Enter second number\"))\n",
        "  result = a+b\n",
        "  print(a+b)\n",
        "except TypeError:\n",
        "  print(\"Both inputs must be a number\")\n"
      ]
    },
    {
      "cell_type": "markdown",
      "metadata": {
        "id": "GMezsqvwF0ZU"
      },
      "source": [
        "### ⭐⭐ Fix the syntax errors"
      ]
    },
    {
      "cell_type": "code",
      "execution_count": null,
      "metadata": {
        "id": "5S-JWljGF8Us",
        "outputId": "e24a3f27-0898-44e2-c421-6d7bb6d47514",
        "colab": {
          "base_uri": "https://localhost:8080/"
        }
      },
      "outputs": [
        {
          "output_type": "stream",
          "name": "stdout",
          "text": [
            "The sum is:  15\n"
          ]
        }
      ],
      "source": [
        "def calculate_sum(numbers):\n",
        "    sum = 0\n",
        "    for number in numbers:\n",
        "        sum += number\n",
        "    return sum\n",
        "\n",
        "def main():\n",
        "    numbers_list = [1, 2, 3, 4, 5]\n",
        "    total = calculate_sum(numbers_list)\n",
        "    print(\"The sum is: \", total)\n",
        "\n",
        "if __name__ == \"__main__\":\n",
        "  main()\n"
      ]
    },
    {
      "cell_type": "markdown",
      "metadata": {
        "id": "BLW1tppXGZBN"
      },
      "source": [
        "### ⭐⭐⭐ Fix the logical bugs\n",
        "Each Functions contains at least one error."
      ]
    },
    {
      "cell_type": "code",
      "execution_count": null,
      "metadata": {
        "id": "-98BA-rLHB9W",
        "outputId": "c3d2ca7d-fe44-4d41-dabd-4db484f60aef",
        "colab": {
          "base_uri": "https://localhost:8080/"
        }
      },
      "outputs": [
        {
          "output_type": "stream",
          "name": "stdout",
          "text": [
            "The largest element is:  10\n",
            "Average: 5.2\n",
            "Is 11 a prime number?  True\n"
          ]
        }
      ],
      "source": [
        "def check_prime(number):\n",
        "    if number < 2:\n",
        "        return False\n",
        "    for i in range(2, number):\n",
        "        if number % i == 0:\n",
        "            return False\n",
        "    return True\n",
        "\n",
        "def find_largest_number(numbers):\n",
        "    largest = numbers[0]\n",
        "    for number in numbers:\n",
        "        if number > largest:\n",
        "            largest = number\n",
        "    return largest\n",
        "\n",
        "def average(numbers):\n",
        "    total = sum(numbers)\n",
        "    average = total / len(numbers)\n",
        "    return average\n",
        "\n",
        "numbers_list = [4, 1, 8, 3, 10]\n",
        "largest = find_largest_number(numbers_list)\n",
        "print(\"The largest element is: \", largest)\n",
        "\n",
        "avg = average(numbers_list)\n",
        "print(\"Average:\", avg)\n",
        "\n",
        "prime_check = check_prime(11)\n",
        "print(\"Is 11 a prime number? \", prime_check)\n"
      ]
    },
    {
      "cell_type": "markdown",
      "metadata": {
        "id": "u1bTgU6WIdu2"
      },
      "source": [
        "### ⭐⭐ Pass, Break, Return and Continue\n",
        "You've learned about these four keywords. Explain the differences between them and name the use cases."
      ]
    },
    {
      "cell_type": "markdown",
      "metadata": {
        "id": "ihGq6mlrI3iA"
      },
      "source": [
        "Your solution:"
      ]
    }
  ],
  "metadata": {
    "colab": {
      "provenance": [],
      "include_colab_link": true
    },
    "kernelspec": {
      "display_name": "Python 3",
      "name": "python3"
    },
    "language_info": {
      "name": "python"
    }
  },
  "nbformat": 4,
  "nbformat_minor": 0
}