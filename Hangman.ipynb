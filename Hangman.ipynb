{
  "nbformat": 4,
  "nbformat_minor": 0,
  "metadata": {
    "colab": {
      "provenance": [],
      "include_colab_link": true
    },
    "kernelspec": {
      "name": "python3",
      "display_name": "Python 3"
    },
    "language_info": {
      "name": "python"
    }
  },
  "cells": [
    {
      "cell_type": "markdown",
      "metadata": {
        "id": "view-in-github",
        "colab_type": "text"
      },
      "source": [
        "<a href=\"https://colab.research.google.com/github/kalakhushi18/Coding/blob/main/Hangman.ipynb\" target=\"_parent\"><img src=\"https://colab.research.google.com/assets/colab-badge.svg\" alt=\"Open In Colab\"/></a>"
      ]
    },
    {
      "cell_type": "markdown",
      "source": [
        "# Hangman"
      ],
      "metadata": {
        "id": "cZWb4CRVMV2t"
      }
    },
    {
      "cell_type": "markdown",
      "source": [
        "> \"Creating a hangman game in Python is a great exercise for students to learn programming concepts such as loops, conditionals, and string manipulation.\"\n",
        "> \\- *ChatGPT*\n"
      ],
      "metadata": {
        "id": "D4OgEaA5MXtY"
      }
    },
    {
      "cell_type": "markdown",
      "source": [
        "So this is why your first more project-like assignment will be implementing the hangman game\n",
        "\n"
      ],
      "metadata": {
        "id": "wctepFAWM_dN"
      }
    },
    {
      "cell_type": "markdown",
      "source": [
        "## Steps for Implementing Hangman\n",
        "1. **Select a Word**: Choose a random word from a predefined list. This will be the word that the players try to guess.\n",
        "\n",
        "2. **Setup**: Initialize variables to keep track of the correctly guessed letters, the number of attempts left, and the current state of the guessed word (using underscores to represent unguessed letters).\n",
        "\n",
        "3. **Game Loop**:\n",
        "\n",
        "  - Display the current state of the word and the number of attempts left.\n",
        "  - Ask the player to guess a letter.\n",
        "  - Check if the guessed letter is in the word.\n",
        "  - If it is, update the state of the word to reveal the guessed letter.\n",
        "  - If it isn't, decrease the number of attempts left.\n",
        "  - Check if the game has ended.\n",
        "  - The player wins if they guess all the letters in the word.\n",
        "  - The player loses if they run out of attempts.\n",
        "4. **End of Game**: Display a message indicating whether the player won or lost, and reveal the correct word."
      ],
      "metadata": {
        "id": "9HE1a4bZNWmA"
      }
    },
    {
      "cell_type": "code",
      "source": [
        "### Task1\n",
        "\"\"\"Create a list of words. Then create a function called choose_word that returns a random word from the list of words\"\"\"\n",
        "import random\n",
        "\n",
        "word_list = [\"Death\", \"Jujutsu\", \"one\", \"Naruto\", \"Tokyo\", \"Demon\"]\n",
        "\n",
        "\n",
        "def choose_word():\n",
        "  index_rand = random.randint(0, len(word_list) - 1)\n",
        "  return word_list[index_rand]\n"
      ],
      "metadata": {
        "id": "qUbvb1HjOAW4"
      },
      "execution_count": null,
      "outputs": []
    },
    {
      "cell_type": "code",
      "source": [
        "### Task 2\n",
        "\"\"\"Create a function called game_loop. Initialize the game state variables like attempts and guessed_words in game_loop.\n",
        " Think what are sensible data types for them. This function will be extended in task 4 with the rest of the code to have a running game loop\"\"\"\n",
        "def game_loop(word_chosen):\n",
        "   temp_word = word_chosen\n",
        "   attempts = 15\n",
        "   game_end = False\n",
        "   guessed_letter_list = []\n",
        "   main_word_guessed = ''\n",
        "   # Displaying state\n",
        "   def display_state(word, guessed_letters, attempt):\n",
        "        if word == '':\n",
        "          print(f\"The letter has not been correctly guessed for that word\")\n",
        "        else:\n",
        "         print(f\"Current state of word is {word}\")\n",
        "        print(f\"Guessed letteres are {guessed_letters}\")\n",
        "        print(f\"Total attempts left {attempt}\")\n",
        "\n",
        "\n",
        "   for num in range(attempts):\n",
        "\n",
        "    guessed_letter = str(input(\"Guess a letter for the word. You can enter the same letter more than once.\"))\n",
        "    guessed_letter_list.append(guessed_letter)\n",
        "    letter_found = False\n",
        "    all_letter_guessed = False\n",
        "\n",
        "\n",
        "    for i in word_chosen.lower():\n",
        "      if guessed_letter == i:\n",
        "        letter_found = True\n",
        "        main_word_guessed += guessed_letter\n",
        "        word_chosen = word_chosen.lower().replace(i, '')\n",
        "        print(word_chosen)\n",
        "        if word_chosen == '':\n",
        "          game_end = True\n",
        "          print(f\"You win. You guessed all the letters of word correctly. The word is {temp_word}\")\n",
        "        break\n",
        "      else:\n",
        "        letter_found = False\n",
        "        continue\n",
        "\n",
        "    if not letter_found:\n",
        "      attempts -= 1\n",
        "\n",
        "    if attempts == 0 :\n",
        "      print(\"You lose. You have no more attempts left.\")\n",
        "      break\n",
        "    elif game_end:\n",
        "      break\n",
        "\n",
        "    else:\n",
        "      display_state(main_word_guessed, guessed_letter_list, attempts)\n"
      ],
      "metadata": {
        "id": "0Xe5eIduO7zH"
      },
      "execution_count": null,
      "outputs": []
    },
    {
      "cell_type": "code",
      "source": [
        "a# This code cell should be run so that the hangman games starts, proceeds and finishes\n",
        "# If you have done well this works and otherwise revisit your code\n",
        "def play_hangman():\n",
        "    word = choose_word()\n",
        "    print(word)\n",
        "    game_loop(word)\n",
        "\n",
        "play_hangman()"
      ],
      "metadata": {
        "id": "jJ0u91RDQar2",
        "outputId": "defd147b-a1c6-425b-c71f-26723906af51",
        "colab": {
          "base_uri": "https://localhost:8080/"
        }
      },
      "execution_count": null,
      "outputs": [
        {
          "output_type": "stream",
          "name": "stdout",
          "text": [
            "Death\n",
            "Guess a letter for the word. You can enter the same letter more than once.d\n",
            "eath\n",
            "Current state of word is d\n",
            "Guessed letteres are ['d']\n",
            "Total attempts left 15\n",
            "Guess a letter for the word. You can enter the same letter more than once.e\n",
            "ath\n",
            "Current state of word is de\n",
            "Guessed letteres are ['d', 'e']\n",
            "Total attempts left 15\n",
            "Guess a letter for the word. You can enter the same letter more than once.\n",
            "Current state of word is de\n",
            "Guessed letteres are ['d', 'e', '']\n",
            "Total attempts left 14\n",
            "Guess a letter for the word. You can enter the same letter more than once.t\n",
            "ah\n",
            "Current state of word is det\n",
            "Guessed letteres are ['d', 'e', '', 't']\n",
            "Total attempts left 14\n",
            "Guess a letter for the word. You can enter the same letter more than once.h\n",
            "a\n",
            "Current state of word is deth\n",
            "Guessed letteres are ['d', 'e', '', 't', 'h']\n",
            "Total attempts left 14\n",
            "Guess a letter for the word. You can enter the same letter more than once.a\n",
            "\n",
            "You win. You guessed all the letters of word correctly. The word is Death\n"
          ]
        }
      ]
    }
  ]
}