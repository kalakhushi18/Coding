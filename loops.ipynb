{
  "cells": [
    {
      "cell_type": "markdown",
      "metadata": {
        "id": "view-in-github",
        "colab_type": "text"
      },
      "source": [
        "<a href=\"https://colab.research.google.com/github/kalakhushi18/Coding/blob/main/loops.ipynb\" target=\"_parent\"><img src=\"https://colab.research.google.com/assets/colab-badge.svg\" alt=\"Open In Colab\"/></a>"
      ]
    },
    {
      "cell_type": "markdown",
      "metadata": {
        "id": "Bd5erE8dbgRt"
      },
      "source": [
        "# Loops / Lists / Dictionaries"
      ]
    },
    {
      "cell_type": "markdown",
      "metadata": {
        "id": "4cczs5C_DGK-"
      },
      "source": [
        "### ⭐Weather data\n",
        "You have set up a weather station, that measures the outside temperature. Write code to determine the maximum/minimum/average value for the series **only using loops, comparisons and assignments**."
      ]
    },
    {
      "cell_type": "code",
      "execution_count": null,
      "metadata": {
        "id": "cPxIyWHADLs6",
        "colab": {
          "base_uri": "https://localhost:8080/"
        },
        "outputId": "85149d4d-0d89-438b-9167-a43864db7b47"
      },
      "outputs": [
        {
          "output_type": "stream",
          "name": "stdout",
          "text": [
            "The max temp is 19.1\n",
            "The min temp is 9.5\n",
            "The avg temp is 0.8714285714285713\n"
          ]
        }
      ],
      "source": [
        "temperatures = [13.9, 16.2, 18.5, 16.8, 19.1, 15.3, 16.6, 14.2, 17.3, 16.5, 14.8, 13.2, 9.5, 12.2]\n",
        "\n",
        "max_temp = temperatures[0]\n",
        "min_temp = temperatures[0]\n",
        "sum_temp = 0\n",
        "# your code solution goes here\n",
        "for temp in temperatures:\n",
        "  sum_temp = + temp\n",
        "  if temp > max_temp:\n",
        "    max_temp = temp\n",
        "  elif temp < min_temp:\n",
        "    min_temp = temp\n",
        "  else:\n",
        "    continue\n",
        "\n",
        "print(f\"The max temp is {max_temp}\")\n",
        "print(f\"The min temp is {min_temp}\")\n",
        "print(f\"The avg temp is {sum_temp/len(temperatures)}\")"
      ]
    },
    {
      "cell_type": "markdown",
      "metadata": {
        "id": "HMMTGDOpkUJm"
      },
      "source": [
        "### ⭐⭐ Lists to Dictionary\n",
        "In the lecture you saw the benefits of using dictionaries over two separate lists.\n",
        "Write code to transform the two lists into one dictionary programmatically."
      ]
    },
    {
      "cell_type": "code",
      "execution_count": null,
      "metadata": {
        "id": "Q3yKACZCkUJn",
        "colab": {
          "base_uri": "https://localhost:8080/"
        },
        "outputId": "2e204260-517a-48f9-9cff-39d07f941a95"
      },
      "outputs": [
        {
          "output_type": "stream",
          "name": "stdout",
          "text": [
            "The resulting dict is {'Hermione': 'Gryffindor', 'Harry': 'Gryffindor', 'Ron': 'Griffindor', 'Draco': 'Slytherin'}\n"
          ]
        }
      ],
      "source": [
        "keys = [\"Hermione\", \"Harry\", \"Ron\", \"Draco\"]\n",
        "values = [\"Gryffindor\", \"Gryffindor\", \"Griffindor\", \"Slytherin\"]\n",
        "\n",
        "students = {} #empty dict\n",
        "# your code solution goes here\n",
        "for i, key in enumerate(keys):\n",
        "    students[key] = values[i]\n",
        "\n",
        "print(f\"The resulting dict is {students}\")\n"
      ]
    },
    {
      "cell_type": "markdown",
      "metadata": {
        "id": "tCcDZ0imbqyf"
      },
      "source": [
        "### ⭐⭐⭐ User Authentication System\n",
        "Develop a user authentication system using a dictionary to store usernames and passwords. Implement a loop that allows users to log in and update their passwords."
      ]
    },
    {
      "cell_type": "code",
      "execution_count": null,
      "metadata": {
        "id": "4aI5Db3ybsOe",
        "colab": {
          "base_uri": "https://localhost:8080/"
        },
        "outputId": "2741d217-502d-44db-ceed-3b483389302f"
      },
      "outputs": [
        {
          "output_type": "stream",
          "name": "stdout",
          "text": [
            "Register with a username and password\n",
            "Give your username to registerstudent\n",
            "Give your password to register123\n",
            "You are successfully registered\n",
            "Login if you have an account\n",
            "Give your username to loginstudent\n",
            "Give your password to login123\n",
            "You are succesfully logged in\n",
            "Do you want to update your password? Give username and then a new password\n",
            "Give your username to update passwordstudent\n",
            "Give a new password234\n",
            "Your new password has been successfully updated\n"
          ]
        }
      ],
      "source": [
        "password_db = {\n",
        "    \"admin\": \"admin\",\n",
        "    \"your_name\": \"your_password\"\n",
        "}\n",
        "# your code solution goes here\n",
        "user_found = False\n",
        "\n",
        "\n",
        "# For sign up\n",
        "print(\"Register with a username and password\")\n",
        "username = str(input(\"Give your username to register\"))\n",
        "password = str(input(\"Give your password to register\"))\n",
        "\n",
        "if username is not None and password is not None:\n",
        "  password_db[username] = password\n",
        "  print(\"You are successfully registered\")\n",
        "else:\n",
        "  print(\"Please enter all details\")\n",
        "\n",
        "# For login\n",
        "print(\"Login if you have an account\")\n",
        "\n",
        "user_login = str(input(\"Give your username to login\"))\n",
        "user_pswd =  str(input(\"Give your password to login\"))\n",
        "\n",
        "for key,value in password_db.items():\n",
        "  if key == user_login:\n",
        "    if value == user_pswd:\n",
        "      user_found = True\n",
        "      print(\"You are succesfully logged in\")\n",
        "      break;\n",
        "    else:\n",
        "      user_found = True\n",
        "      print(\"Please check the credentials\")\n",
        "      break\n",
        "  else:\n",
        "    user_found = True\n",
        "\n",
        "if not user_found:\n",
        "  print(\"The user does not exist\")\n",
        "else:\n",
        "  user_found = False\n",
        "\n",
        "\n",
        "\n",
        "\n",
        "#For password update\n",
        "print(\"Do you want to update your password? Give username and then a new password\")\n",
        "\n",
        "user_name_update = str(input(\"Give your username to update password\"))\n",
        "user_pswd_update =  str(input(\"Give a new password\"))\n",
        "\n",
        "for key,value in password_db.items():\n",
        "  if key == user_name_update:\n",
        "     user_found =True\n",
        "     value = user_pswd_update\n",
        "     print(\"Your new password has been successfully updated\")\n",
        "     break;\n",
        "  else:\n",
        "    user_found = False\n",
        "\n",
        "if not user_found:\n",
        "  print(\"The user does not exist\")\n",
        "else:\n",
        "  user_found = False\n",
        "\n",
        "\n",
        "\n"
      ]
    },
    {
      "cell_type": "markdown",
      "metadata": {
        "id": "N1JcqbJ6kUJq"
      },
      "source": [
        "Try first for yourself. If you get stuck, run the cell below to get example psudocode, that might help you:"
      ]
    },
    {
      "cell_type": "code",
      "execution_count": null,
      "metadata": {
        "id": "Wofd--2LkUJr",
        "colab": {
          "base_uri": "https://localhost:8080/"
        },
        "outputId": "9cc652c4-2a2f-4629-db55-aa541ba2062c"
      },
      "outputs": [
        {
          "output_type": "stream",
          "name": "stdout",
          "text": [
            "\n",
            "loop\n",
            "  ask for a username\n",
            "  ask for the password\n",
            "  if correct, greet them and enter new loop\n",
            "    loop\n",
            "      ask for action [\"logout\", \"password\", \"command not recognized\"]\n",
            "      handle the action appropriately\n",
            "  else tell the user their hacking attempt will be reported to the authorities\n",
            "\n"
          ]
        }
      ],
      "source": [
        "import codecs\n",
        "\n",
        "hint = \"\"\"\n",
        "ybbc\n",
        "  nfx sbe n hfreanzr\n",
        "  nfx sbe gur cnffjbeq\n",
        "  vs pbeerpg, terrg gurz naq ragre arj ybbc\n",
        "    ybbc\n",
        "      nfx sbe npgvba [\"ybtbhg\", \"cnffjbeq\", \"pbzznaq abg erpbtavmrq\"]\n",
        "      unaqyr gur npgvba nccebcevngryl\n",
        "  ryfr gryy gur hfre gurve unpxvat nggrzcg jvyy or ercbegrq gb gur nhgubevgvrf\n",
        "\"\"\"\n",
        "\n",
        "print(codecs.decode(hint, 'rot_13'))"
      ]
    },
    {
      "cell_type": "markdown",
      "metadata": {
        "id": "uh7pWN0-kUJt"
      },
      "source": [
        "### ⭐️ Vowel Counter\n",
        "\n",
        "Create a program that takes a sentence as input and counts the number of vowels (a, e, i, o, u) in it."
      ]
    },
    {
      "cell_type": "code",
      "execution_count": null,
      "metadata": {
        "id": "1bFiaOknkUJu",
        "colab": {
          "base_uri": "https://localhost:8080/"
        },
        "outputId": "387c4179-ee98-466c-a460-36f339c6ab08"
      },
      "outputs": [
        {
          "output_type": "stream",
          "name": "stdout",
          "text": [
            "Please enter a sentence.hello there\n",
            "{'a': 0, 'e': 3, 'i': 0, 'o': 1, 'u': 0}\n"
          ]
        }
      ],
      "source": [
        "vowel_counts = {\n",
        "    \"a\": 0,\n",
        "    \"e\": 0,\n",
        "    \"i\": 0,\n",
        "    \"o\": 0,\n",
        "    \"u\": 0\n",
        "    }\n",
        "# your code solution goes here\n",
        "sentence = str(input(\"Please enter a sentence.\"))\n",
        "\n",
        "for i in sentence:\n",
        "  for key,value in vowel_counts.items():\n",
        "    if key == i :\n",
        "       vowel_counts[key] += 1\n",
        "       break;\n",
        "    else:\n",
        "      continue\n",
        "\n",
        "\n",
        "# end your code here\n",
        "print(vowel_counts)"
      ]
    }
  ],
  "metadata": {
    "colab": {
      "provenance": [],
      "include_colab_link": true
    },
    "kernelspec": {
      "display_name": "Python 3",
      "name": "python3"
    },
    "language_info": {
      "codemirror_mode": {
        "name": "ipython",
        "version": 3
      },
      "file_extension": ".py",
      "mimetype": "text/x-python",
      "name": "python",
      "nbconvert_exporter": "python",
      "pygments_lexer": "ipython3",
      "version": "3.10.13"
    }
  },
  "nbformat": 4,
  "nbformat_minor": 0
}